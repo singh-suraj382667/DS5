{
 "cells": [
  {
   "cell_type": "code",
   "execution_count": 22,
   "id": "29c268c7",
   "metadata": {},
   "outputs": [],
   "source": [
    "import pandas as pd, numpy as np"
   ]
  },
  {
   "cell_type": "code",
   "execution_count": 23,
   "id": "20f389fe",
   "metadata": {},
   "outputs": [],
   "source": [
    "df = pd.read_csv(\"C:\\\\Users\\\\ASUS\\\\OneDrive\\\\Desktop//social.csv\")"
   ]
  },
  {
   "cell_type": "markdown",
   "id": "4ac84f06",
   "metadata": {},
   "source": [
    "This is the dataset . Here, there is no use of the User ID feature (it is not related with any of the feature ). so we,r going to drop it. "
   ]
  },
  {
   "cell_type": "code",
   "execution_count": 24,
   "id": "4a68646d",
   "metadata": {},
   "outputs": [
    {
     "data": {
      "text/html": [
       "<div>\n",
       "<style scoped>\n",
       "    .dataframe tbody tr th:only-of-type {\n",
       "        vertical-align: middle;\n",
       "    }\n",
       "\n",
       "    .dataframe tbody tr th {\n",
       "        vertical-align: top;\n",
       "    }\n",
       "\n",
       "    .dataframe thead th {\n",
       "        text-align: right;\n",
       "    }\n",
       "</style>\n",
       "<table border=\"1\" class=\"dataframe\">\n",
       "  <thead>\n",
       "    <tr style=\"text-align: right;\">\n",
       "      <th></th>\n",
       "      <th>User ID</th>\n",
       "      <th>Gender</th>\n",
       "      <th>Age</th>\n",
       "      <th>EstimatedSalary</th>\n",
       "      <th>Purchased</th>\n",
       "    </tr>\n",
       "  </thead>\n",
       "  <tbody>\n",
       "    <tr>\n",
       "      <th>0</th>\n",
       "      <td>15624510</td>\n",
       "      <td>Male</td>\n",
       "      <td>19</td>\n",
       "      <td>19000</td>\n",
       "      <td>0</td>\n",
       "    </tr>\n",
       "    <tr>\n",
       "      <th>1</th>\n",
       "      <td>15810944</td>\n",
       "      <td>Male</td>\n",
       "      <td>35</td>\n",
       "      <td>20000</td>\n",
       "      <td>0</td>\n",
       "    </tr>\n",
       "    <tr>\n",
       "      <th>2</th>\n",
       "      <td>15668575</td>\n",
       "      <td>Female</td>\n",
       "      <td>26</td>\n",
       "      <td>43000</td>\n",
       "      <td>0</td>\n",
       "    </tr>\n",
       "    <tr>\n",
       "      <th>3</th>\n",
       "      <td>15603246</td>\n",
       "      <td>Female</td>\n",
       "      <td>27</td>\n",
       "      <td>57000</td>\n",
       "      <td>0</td>\n",
       "    </tr>\n",
       "    <tr>\n",
       "      <th>4</th>\n",
       "      <td>15804002</td>\n",
       "      <td>Male</td>\n",
       "      <td>19</td>\n",
       "      <td>76000</td>\n",
       "      <td>0</td>\n",
       "    </tr>\n",
       "    <tr>\n",
       "      <th>...</th>\n",
       "      <td>...</td>\n",
       "      <td>...</td>\n",
       "      <td>...</td>\n",
       "      <td>...</td>\n",
       "      <td>...</td>\n",
       "    </tr>\n",
       "    <tr>\n",
       "      <th>395</th>\n",
       "      <td>15691863</td>\n",
       "      <td>Female</td>\n",
       "      <td>46</td>\n",
       "      <td>41000</td>\n",
       "      <td>1</td>\n",
       "    </tr>\n",
       "    <tr>\n",
       "      <th>396</th>\n",
       "      <td>15706071</td>\n",
       "      <td>Male</td>\n",
       "      <td>51</td>\n",
       "      <td>23000</td>\n",
       "      <td>1</td>\n",
       "    </tr>\n",
       "    <tr>\n",
       "      <th>397</th>\n",
       "      <td>15654296</td>\n",
       "      <td>Female</td>\n",
       "      <td>50</td>\n",
       "      <td>20000</td>\n",
       "      <td>1</td>\n",
       "    </tr>\n",
       "    <tr>\n",
       "      <th>398</th>\n",
       "      <td>15755018</td>\n",
       "      <td>Male</td>\n",
       "      <td>36</td>\n",
       "      <td>33000</td>\n",
       "      <td>0</td>\n",
       "    </tr>\n",
       "    <tr>\n",
       "      <th>399</th>\n",
       "      <td>15594041</td>\n",
       "      <td>Female</td>\n",
       "      <td>49</td>\n",
       "      <td>36000</td>\n",
       "      <td>1</td>\n",
       "    </tr>\n",
       "  </tbody>\n",
       "</table>\n",
       "<p>400 rows × 5 columns</p>\n",
       "</div>"
      ],
      "text/plain": [
       "      User ID  Gender  Age  EstimatedSalary  Purchased\n",
       "0    15624510    Male   19            19000          0\n",
       "1    15810944    Male   35            20000          0\n",
       "2    15668575  Female   26            43000          0\n",
       "3    15603246  Female   27            57000          0\n",
       "4    15804002    Male   19            76000          0\n",
       "..        ...     ...  ...              ...        ...\n",
       "395  15691863  Female   46            41000          1\n",
       "396  15706071    Male   51            23000          1\n",
       "397  15654296  Female   50            20000          1\n",
       "398  15755018    Male   36            33000          0\n",
       "399  15594041  Female   49            36000          1\n",
       "\n",
       "[400 rows x 5 columns]"
      ]
     },
     "execution_count": 24,
     "metadata": {},
     "output_type": "execute_result"
    }
   ],
   "source": [
    "df"
   ]
  },
  {
   "cell_type": "markdown",
   "id": "ad65189d",
   "metadata": {},
   "source": [
    "dropped User ID feuture "
   ]
  },
  {
   "cell_type": "code",
   "execution_count": 27,
   "id": "920c2545",
   "metadata": {},
   "outputs": [],
   "source": [
    "df.drop(\"User ID\", axis =1, inplace = True)"
   ]
  },
  {
   "cell_type": "code",
   "execution_count": 28,
   "id": "0bd7e6f4",
   "metadata": {},
   "outputs": [
    {
     "data": {
      "text/html": [
       "<div>\n",
       "<style scoped>\n",
       "    .dataframe tbody tr th:only-of-type {\n",
       "        vertical-align: middle;\n",
       "    }\n",
       "\n",
       "    .dataframe tbody tr th {\n",
       "        vertical-align: top;\n",
       "    }\n",
       "\n",
       "    .dataframe thead th {\n",
       "        text-align: right;\n",
       "    }\n",
       "</style>\n",
       "<table border=\"1\" class=\"dataframe\">\n",
       "  <thead>\n",
       "    <tr style=\"text-align: right;\">\n",
       "      <th></th>\n",
       "      <th>Gender</th>\n",
       "      <th>Age</th>\n",
       "      <th>EstimatedSalary</th>\n",
       "      <th>Purchased</th>\n",
       "    </tr>\n",
       "  </thead>\n",
       "  <tbody>\n",
       "    <tr>\n",
       "      <th>0</th>\n",
       "      <td>Male</td>\n",
       "      <td>19</td>\n",
       "      <td>19000</td>\n",
       "      <td>0</td>\n",
       "    </tr>\n",
       "    <tr>\n",
       "      <th>1</th>\n",
       "      <td>Male</td>\n",
       "      <td>35</td>\n",
       "      <td>20000</td>\n",
       "      <td>0</td>\n",
       "    </tr>\n",
       "    <tr>\n",
       "      <th>2</th>\n",
       "      <td>Female</td>\n",
       "      <td>26</td>\n",
       "      <td>43000</td>\n",
       "      <td>0</td>\n",
       "    </tr>\n",
       "    <tr>\n",
       "      <th>3</th>\n",
       "      <td>Female</td>\n",
       "      <td>27</td>\n",
       "      <td>57000</td>\n",
       "      <td>0</td>\n",
       "    </tr>\n",
       "    <tr>\n",
       "      <th>4</th>\n",
       "      <td>Male</td>\n",
       "      <td>19</td>\n",
       "      <td>76000</td>\n",
       "      <td>0</td>\n",
       "    </tr>\n",
       "    <tr>\n",
       "      <th>...</th>\n",
       "      <td>...</td>\n",
       "      <td>...</td>\n",
       "      <td>...</td>\n",
       "      <td>...</td>\n",
       "    </tr>\n",
       "    <tr>\n",
       "      <th>395</th>\n",
       "      <td>Female</td>\n",
       "      <td>46</td>\n",
       "      <td>41000</td>\n",
       "      <td>1</td>\n",
       "    </tr>\n",
       "    <tr>\n",
       "      <th>396</th>\n",
       "      <td>Male</td>\n",
       "      <td>51</td>\n",
       "      <td>23000</td>\n",
       "      <td>1</td>\n",
       "    </tr>\n",
       "    <tr>\n",
       "      <th>397</th>\n",
       "      <td>Female</td>\n",
       "      <td>50</td>\n",
       "      <td>20000</td>\n",
       "      <td>1</td>\n",
       "    </tr>\n",
       "    <tr>\n",
       "      <th>398</th>\n",
       "      <td>Male</td>\n",
       "      <td>36</td>\n",
       "      <td>33000</td>\n",
       "      <td>0</td>\n",
       "    </tr>\n",
       "    <tr>\n",
       "      <th>399</th>\n",
       "      <td>Female</td>\n",
       "      <td>49</td>\n",
       "      <td>36000</td>\n",
       "      <td>1</td>\n",
       "    </tr>\n",
       "  </tbody>\n",
       "</table>\n",
       "<p>400 rows × 4 columns</p>\n",
       "</div>"
      ],
      "text/plain": [
       "     Gender  Age  EstimatedSalary  Purchased\n",
       "0      Male   19            19000          0\n",
       "1      Male   35            20000          0\n",
       "2    Female   26            43000          0\n",
       "3    Female   27            57000          0\n",
       "4      Male   19            76000          0\n",
       "..      ...  ...              ...        ...\n",
       "395  Female   46            41000          1\n",
       "396    Male   51            23000          1\n",
       "397  Female   50            20000          1\n",
       "398    Male   36            33000          0\n",
       "399  Female   49            36000          1\n",
       "\n",
       "[400 rows x 4 columns]"
      ]
     },
     "execution_count": 28,
     "metadata": {},
     "output_type": "execute_result"
    }
   ],
   "source": [
    "df"
   ]
  },
  {
   "cell_type": "markdown",
   "id": "931d5fb5",
   "metadata": {},
   "source": [
    "Let's check is there any NaN or null values in the dataset"
   ]
  },
  {
   "cell_type": "code",
   "execution_count": 30,
   "id": "14dcc5e7",
   "metadata": {},
   "outputs": [
    {
     "data": {
      "text/plain": [
       "Gender             0\n",
       "Age                0\n",
       "EstimatedSalary    0\n",
       "Purchased          0\n",
       "dtype: int64"
      ]
     },
     "execution_count": 30,
     "metadata": {},
     "output_type": "execute_result"
    }
   ],
   "source": [
    "df.isna().sum()"
   ]
  },
  {
   "cell_type": "markdown",
   "id": "f021d6b0",
   "metadata": {},
   "source": [
    "Here in this dataset we'r having nominal categoruical data and we know that our model dosen,t understand any kind of categorical data . so we have to encode it . B'c the this nominal categoricl data is in the independent column so we can apply pandas or one hot encoding"
   ]
  },
  {
   "cell_type": "code",
   "execution_count": 32,
   "id": "cd7d3550",
   "metadata": {},
   "outputs": [],
   "source": [
    "k = pd.get_dummies(df[\"Gender\"], drop_first = True)"
   ]
  },
  {
   "cell_type": "code",
   "execution_count": 33,
   "id": "40c3887c",
   "metadata": {},
   "outputs": [
    {
     "data": {
      "text/html": [
       "<div>\n",
       "<style scoped>\n",
       "    .dataframe tbody tr th:only-of-type {\n",
       "        vertical-align: middle;\n",
       "    }\n",
       "\n",
       "    .dataframe tbody tr th {\n",
       "        vertical-align: top;\n",
       "    }\n",
       "\n",
       "    .dataframe thead th {\n",
       "        text-align: right;\n",
       "    }\n",
       "</style>\n",
       "<table border=\"1\" class=\"dataframe\">\n",
       "  <thead>\n",
       "    <tr style=\"text-align: right;\">\n",
       "      <th></th>\n",
       "      <th>Male</th>\n",
       "    </tr>\n",
       "  </thead>\n",
       "  <tbody>\n",
       "    <tr>\n",
       "      <th>0</th>\n",
       "      <td>1</td>\n",
       "    </tr>\n",
       "    <tr>\n",
       "      <th>1</th>\n",
       "      <td>1</td>\n",
       "    </tr>\n",
       "    <tr>\n",
       "      <th>2</th>\n",
       "      <td>0</td>\n",
       "    </tr>\n",
       "    <tr>\n",
       "      <th>3</th>\n",
       "      <td>0</td>\n",
       "    </tr>\n",
       "    <tr>\n",
       "      <th>4</th>\n",
       "      <td>1</td>\n",
       "    </tr>\n",
       "    <tr>\n",
       "      <th>...</th>\n",
       "      <td>...</td>\n",
       "    </tr>\n",
       "    <tr>\n",
       "      <th>395</th>\n",
       "      <td>0</td>\n",
       "    </tr>\n",
       "    <tr>\n",
       "      <th>396</th>\n",
       "      <td>1</td>\n",
       "    </tr>\n",
       "    <tr>\n",
       "      <th>397</th>\n",
       "      <td>0</td>\n",
       "    </tr>\n",
       "    <tr>\n",
       "      <th>398</th>\n",
       "      <td>1</td>\n",
       "    </tr>\n",
       "    <tr>\n",
       "      <th>399</th>\n",
       "      <td>0</td>\n",
       "    </tr>\n",
       "  </tbody>\n",
       "</table>\n",
       "<p>400 rows × 1 columns</p>\n",
       "</div>"
      ],
      "text/plain": [
       "     Male\n",
       "0       1\n",
       "1       1\n",
       "2       0\n",
       "3       0\n",
       "4       1\n",
       "..    ...\n",
       "395     0\n",
       "396     1\n",
       "397     0\n",
       "398     1\n",
       "399     0\n",
       "\n",
       "[400 rows x 1 columns]"
      ]
     },
     "execution_count": 33,
     "metadata": {},
     "output_type": "execute_result"
    }
   ],
   "source": [
    "k"
   ]
  },
  {
   "cell_type": "code",
   "execution_count": 36,
   "id": "021a3546",
   "metadata": {},
   "outputs": [],
   "source": [
    "dff = pd.concat([df.drop(\"Gender\",axis = 1), k ], axis = 1)"
   ]
  },
  {
   "cell_type": "code",
   "execution_count": 37,
   "id": "23656912",
   "metadata": {},
   "outputs": [
    {
     "data": {
      "text/html": [
       "<div>\n",
       "<style scoped>\n",
       "    .dataframe tbody tr th:only-of-type {\n",
       "        vertical-align: middle;\n",
       "    }\n",
       "\n",
       "    .dataframe tbody tr th {\n",
       "        vertical-align: top;\n",
       "    }\n",
       "\n",
       "    .dataframe thead th {\n",
       "        text-align: right;\n",
       "    }\n",
       "</style>\n",
       "<table border=\"1\" class=\"dataframe\">\n",
       "  <thead>\n",
       "    <tr style=\"text-align: right;\">\n",
       "      <th></th>\n",
       "      <th>Age</th>\n",
       "      <th>EstimatedSalary</th>\n",
       "      <th>Purchased</th>\n",
       "      <th>Male</th>\n",
       "    </tr>\n",
       "  </thead>\n",
       "  <tbody>\n",
       "    <tr>\n",
       "      <th>0</th>\n",
       "      <td>19</td>\n",
       "      <td>19000</td>\n",
       "      <td>0</td>\n",
       "      <td>1</td>\n",
       "    </tr>\n",
       "    <tr>\n",
       "      <th>1</th>\n",
       "      <td>35</td>\n",
       "      <td>20000</td>\n",
       "      <td>0</td>\n",
       "      <td>1</td>\n",
       "    </tr>\n",
       "    <tr>\n",
       "      <th>2</th>\n",
       "      <td>26</td>\n",
       "      <td>43000</td>\n",
       "      <td>0</td>\n",
       "      <td>0</td>\n",
       "    </tr>\n",
       "    <tr>\n",
       "      <th>3</th>\n",
       "      <td>27</td>\n",
       "      <td>57000</td>\n",
       "      <td>0</td>\n",
       "      <td>0</td>\n",
       "    </tr>\n",
       "    <tr>\n",
       "      <th>4</th>\n",
       "      <td>19</td>\n",
       "      <td>76000</td>\n",
       "      <td>0</td>\n",
       "      <td>1</td>\n",
       "    </tr>\n",
       "    <tr>\n",
       "      <th>...</th>\n",
       "      <td>...</td>\n",
       "      <td>...</td>\n",
       "      <td>...</td>\n",
       "      <td>...</td>\n",
       "    </tr>\n",
       "    <tr>\n",
       "      <th>395</th>\n",
       "      <td>46</td>\n",
       "      <td>41000</td>\n",
       "      <td>1</td>\n",
       "      <td>0</td>\n",
       "    </tr>\n",
       "    <tr>\n",
       "      <th>396</th>\n",
       "      <td>51</td>\n",
       "      <td>23000</td>\n",
       "      <td>1</td>\n",
       "      <td>1</td>\n",
       "    </tr>\n",
       "    <tr>\n",
       "      <th>397</th>\n",
       "      <td>50</td>\n",
       "      <td>20000</td>\n",
       "      <td>1</td>\n",
       "      <td>0</td>\n",
       "    </tr>\n",
       "    <tr>\n",
       "      <th>398</th>\n",
       "      <td>36</td>\n",
       "      <td>33000</td>\n",
       "      <td>0</td>\n",
       "      <td>1</td>\n",
       "    </tr>\n",
       "    <tr>\n",
       "      <th>399</th>\n",
       "      <td>49</td>\n",
       "      <td>36000</td>\n",
       "      <td>1</td>\n",
       "      <td>0</td>\n",
       "    </tr>\n",
       "  </tbody>\n",
       "</table>\n",
       "<p>400 rows × 4 columns</p>\n",
       "</div>"
      ],
      "text/plain": [
       "     Age  EstimatedSalary  Purchased  Male\n",
       "0     19            19000          0     1\n",
       "1     35            20000          0     1\n",
       "2     26            43000          0     0\n",
       "3     27            57000          0     0\n",
       "4     19            76000          0     1\n",
       "..   ...              ...        ...   ...\n",
       "395   46            41000          1     0\n",
       "396   51            23000          1     1\n",
       "397   50            20000          1     0\n",
       "398   36            33000          0     1\n",
       "399   49            36000          1     0\n",
       "\n",
       "[400 rows x 4 columns]"
      ]
     },
     "execution_count": 37,
     "metadata": {},
     "output_type": "execute_result"
    }
   ],
   "source": [
    "dff"
   ]
  },
  {
   "cell_type": "markdown",
   "id": "b2d1ab6c",
   "metadata": {},
   "source": [
    "Let's shuffle the columns"
   ]
  },
  {
   "cell_type": "code",
   "execution_count": 85,
   "id": "2ebb63e6",
   "metadata": {},
   "outputs": [
    {
     "data": {
      "text/plain": [
       "Index(['Age', 'EstimatedSalary', 'Male', 'Purchased'], dtype='object')"
      ]
     },
     "execution_count": 85,
     "metadata": {},
     "output_type": "execute_result"
    }
   ],
   "source": [
    "dff.columns"
   ]
  },
  {
   "cell_type": "code",
   "execution_count": 86,
   "id": "16708646",
   "metadata": {},
   "outputs": [],
   "source": [
    "dff =dff[['Age', 'EstimatedSalary','Male', 'Purchased']]"
   ]
  },
  {
   "cell_type": "code",
   "execution_count": 87,
   "id": "9d6f228f",
   "metadata": {},
   "outputs": [
    {
     "data": {
      "text/html": [
       "<div>\n",
       "<style scoped>\n",
       "    .dataframe tbody tr th:only-of-type {\n",
       "        vertical-align: middle;\n",
       "    }\n",
       "\n",
       "    .dataframe tbody tr th {\n",
       "        vertical-align: top;\n",
       "    }\n",
       "\n",
       "    .dataframe thead th {\n",
       "        text-align: right;\n",
       "    }\n",
       "</style>\n",
       "<table border=\"1\" class=\"dataframe\">\n",
       "  <thead>\n",
       "    <tr style=\"text-align: right;\">\n",
       "      <th></th>\n",
       "      <th>Age</th>\n",
       "      <th>EstimatedSalary</th>\n",
       "      <th>Male</th>\n",
       "      <th>Purchased</th>\n",
       "    </tr>\n",
       "  </thead>\n",
       "  <tbody>\n",
       "    <tr>\n",
       "      <th>0</th>\n",
       "      <td>19</td>\n",
       "      <td>19000</td>\n",
       "      <td>1</td>\n",
       "      <td>0</td>\n",
       "    </tr>\n",
       "    <tr>\n",
       "      <th>1</th>\n",
       "      <td>35</td>\n",
       "      <td>20000</td>\n",
       "      <td>1</td>\n",
       "      <td>0</td>\n",
       "    </tr>\n",
       "    <tr>\n",
       "      <th>2</th>\n",
       "      <td>26</td>\n",
       "      <td>43000</td>\n",
       "      <td>0</td>\n",
       "      <td>0</td>\n",
       "    </tr>\n",
       "    <tr>\n",
       "      <th>3</th>\n",
       "      <td>27</td>\n",
       "      <td>57000</td>\n",
       "      <td>0</td>\n",
       "      <td>0</td>\n",
       "    </tr>\n",
       "    <tr>\n",
       "      <th>4</th>\n",
       "      <td>19</td>\n",
       "      <td>76000</td>\n",
       "      <td>1</td>\n",
       "      <td>0</td>\n",
       "    </tr>\n",
       "    <tr>\n",
       "      <th>...</th>\n",
       "      <td>...</td>\n",
       "      <td>...</td>\n",
       "      <td>...</td>\n",
       "      <td>...</td>\n",
       "    </tr>\n",
       "    <tr>\n",
       "      <th>395</th>\n",
       "      <td>46</td>\n",
       "      <td>41000</td>\n",
       "      <td>0</td>\n",
       "      <td>1</td>\n",
       "    </tr>\n",
       "    <tr>\n",
       "      <th>396</th>\n",
       "      <td>51</td>\n",
       "      <td>23000</td>\n",
       "      <td>1</td>\n",
       "      <td>1</td>\n",
       "    </tr>\n",
       "    <tr>\n",
       "      <th>397</th>\n",
       "      <td>50</td>\n",
       "      <td>20000</td>\n",
       "      <td>0</td>\n",
       "      <td>1</td>\n",
       "    </tr>\n",
       "    <tr>\n",
       "      <th>398</th>\n",
       "      <td>36</td>\n",
       "      <td>33000</td>\n",
       "      <td>1</td>\n",
       "      <td>0</td>\n",
       "    </tr>\n",
       "    <tr>\n",
       "      <th>399</th>\n",
       "      <td>49</td>\n",
       "      <td>36000</td>\n",
       "      <td>0</td>\n",
       "      <td>1</td>\n",
       "    </tr>\n",
       "  </tbody>\n",
       "</table>\n",
       "<p>400 rows × 4 columns</p>\n",
       "</div>"
      ],
      "text/plain": [
       "     Age  EstimatedSalary  Male  Purchased\n",
       "0     19            19000     1          0\n",
       "1     35            20000     1          0\n",
       "2     26            43000     0          0\n",
       "3     27            57000     0          0\n",
       "4     19            76000     1          0\n",
       "..   ...              ...   ...        ...\n",
       "395   46            41000     0          1\n",
       "396   51            23000     1          1\n",
       "397   50            20000     0          1\n",
       "398   36            33000     1          0\n",
       "399   49            36000     0          1\n",
       "\n",
       "[400 rows x 4 columns]"
      ]
     },
     "execution_count": 87,
     "metadata": {},
     "output_type": "execute_result"
    }
   ],
   "source": [
    "dff"
   ]
  },
  {
   "cell_type": "markdown",
   "id": "824e37b7",
   "metadata": {},
   "source": [
    "Let's assign independent columns to \"X\" and dependet to \"y\""
   ]
  },
  {
   "cell_type": "code",
   "execution_count": 88,
   "id": "2d369360",
   "metadata": {},
   "outputs": [],
   "source": [
    "X = dff.drop(\"Purchased\", axis = 1)"
   ]
  },
  {
   "cell_type": "code",
   "execution_count": 89,
   "id": "af524314",
   "metadata": {},
   "outputs": [
    {
     "data": {
      "text/html": [
       "<div>\n",
       "<style scoped>\n",
       "    .dataframe tbody tr th:only-of-type {\n",
       "        vertical-align: middle;\n",
       "    }\n",
       "\n",
       "    .dataframe tbody tr th {\n",
       "        vertical-align: top;\n",
       "    }\n",
       "\n",
       "    .dataframe thead th {\n",
       "        text-align: right;\n",
       "    }\n",
       "</style>\n",
       "<table border=\"1\" class=\"dataframe\">\n",
       "  <thead>\n",
       "    <tr style=\"text-align: right;\">\n",
       "      <th></th>\n",
       "      <th>Age</th>\n",
       "      <th>EstimatedSalary</th>\n",
       "      <th>Male</th>\n",
       "    </tr>\n",
       "  </thead>\n",
       "  <tbody>\n",
       "    <tr>\n",
       "      <th>0</th>\n",
       "      <td>19</td>\n",
       "      <td>19000</td>\n",
       "      <td>1</td>\n",
       "    </tr>\n",
       "    <tr>\n",
       "      <th>1</th>\n",
       "      <td>35</td>\n",
       "      <td>20000</td>\n",
       "      <td>1</td>\n",
       "    </tr>\n",
       "    <tr>\n",
       "      <th>2</th>\n",
       "      <td>26</td>\n",
       "      <td>43000</td>\n",
       "      <td>0</td>\n",
       "    </tr>\n",
       "    <tr>\n",
       "      <th>3</th>\n",
       "      <td>27</td>\n",
       "      <td>57000</td>\n",
       "      <td>0</td>\n",
       "    </tr>\n",
       "    <tr>\n",
       "      <th>4</th>\n",
       "      <td>19</td>\n",
       "      <td>76000</td>\n",
       "      <td>1</td>\n",
       "    </tr>\n",
       "    <tr>\n",
       "      <th>...</th>\n",
       "      <td>...</td>\n",
       "      <td>...</td>\n",
       "      <td>...</td>\n",
       "    </tr>\n",
       "    <tr>\n",
       "      <th>395</th>\n",
       "      <td>46</td>\n",
       "      <td>41000</td>\n",
       "      <td>0</td>\n",
       "    </tr>\n",
       "    <tr>\n",
       "      <th>396</th>\n",
       "      <td>51</td>\n",
       "      <td>23000</td>\n",
       "      <td>1</td>\n",
       "    </tr>\n",
       "    <tr>\n",
       "      <th>397</th>\n",
       "      <td>50</td>\n",
       "      <td>20000</td>\n",
       "      <td>0</td>\n",
       "    </tr>\n",
       "    <tr>\n",
       "      <th>398</th>\n",
       "      <td>36</td>\n",
       "      <td>33000</td>\n",
       "      <td>1</td>\n",
       "    </tr>\n",
       "    <tr>\n",
       "      <th>399</th>\n",
       "      <td>49</td>\n",
       "      <td>36000</td>\n",
       "      <td>0</td>\n",
       "    </tr>\n",
       "  </tbody>\n",
       "</table>\n",
       "<p>400 rows × 3 columns</p>\n",
       "</div>"
      ],
      "text/plain": [
       "     Age  EstimatedSalary  Male\n",
       "0     19            19000     1\n",
       "1     35            20000     1\n",
       "2     26            43000     0\n",
       "3     27            57000     0\n",
       "4     19            76000     1\n",
       "..   ...              ...   ...\n",
       "395   46            41000     0\n",
       "396   51            23000     1\n",
       "397   50            20000     0\n",
       "398   36            33000     1\n",
       "399   49            36000     0\n",
       "\n",
       "[400 rows x 3 columns]"
      ]
     },
     "execution_count": 89,
     "metadata": {},
     "output_type": "execute_result"
    }
   ],
   "source": [
    "X"
   ]
  },
  {
   "cell_type": "code",
   "execution_count": 90,
   "id": "7f75b707",
   "metadata": {},
   "outputs": [],
   "source": [
    "y = dff[\"Purchased\"]"
   ]
  },
  {
   "cell_type": "code",
   "execution_count": 91,
   "id": "cba8ee05",
   "metadata": {},
   "outputs": [
    {
     "data": {
      "text/plain": [
       "0      0\n",
       "1      0\n",
       "2      0\n",
       "3      0\n",
       "4      0\n",
       "      ..\n",
       "395    1\n",
       "396    1\n",
       "397    1\n",
       "398    0\n",
       "399    1\n",
       "Name: Purchased, Length: 400, dtype: int64"
      ]
     },
     "execution_count": 91,
     "metadata": {},
     "output_type": "execute_result"
    }
   ],
   "source": [
    "y"
   ]
  },
  {
   "cell_type": "markdown",
   "id": "6cb5efc0",
   "metadata": {},
   "source": [
    "## first going to apply SVM without sacling and without crossvalidation"
   ]
  },
  {
   "cell_type": "code",
   "execution_count": 116,
   "id": "dd8d05be",
   "metadata": {},
   "outputs": [],
   "source": [
    "from sklearn.model_selection import train_test_split"
   ]
  },
  {
   "cell_type": "code",
   "execution_count": 117,
   "id": "0b066f72",
   "metadata": {},
   "outputs": [],
   "source": [
    "Xtrain,Xtest,ytrain,ytest = train_test_split(X,y, train_size = 0.80)"
   ]
  },
  {
   "cell_type": "code",
   "execution_count": 118,
   "id": "34dd91b8",
   "metadata": {},
   "outputs": [
    {
     "data": {
      "text/plain": [
       "((320, 3), (80, 3), (320,), (80,))"
      ]
     },
     "execution_count": 118,
     "metadata": {},
     "output_type": "execute_result"
    }
   ],
   "source": [
    "Xtrain.shape, Xtest.shape , ytrain.shape , ytest.shape"
   ]
  },
  {
   "cell_type": "code",
   "execution_count": 119,
   "id": "a717d44c",
   "metadata": {},
   "outputs": [],
   "source": [
    "from sklearn.svm import SVC"
   ]
  },
  {
   "cell_type": "code",
   "execution_count": 120,
   "id": "6232179b",
   "metadata": {},
   "outputs": [],
   "source": [
    "sv = SVC()"
   ]
  },
  {
   "cell_type": "code",
   "execution_count": 121,
   "id": "da69d0e9",
   "metadata": {},
   "outputs": [
    {
     "data": {
      "text/plain": [
       "SVC()"
      ]
     },
     "execution_count": 121,
     "metadata": {},
     "output_type": "execute_result"
    }
   ],
   "source": [
    "sv.fit(Xtrain,ytrain)"
   ]
  },
  {
   "cell_type": "code",
   "execution_count": 122,
   "id": "d273f40f",
   "metadata": {},
   "outputs": [
    {
     "data": {
      "text/plain": [
       "0.7625"
      ]
     },
     "execution_count": 122,
     "metadata": {},
     "output_type": "execute_result"
    }
   ],
   "source": [
    "sv.score(Xtest,ytest)"
   ]
  },
  {
   "cell_type": "markdown",
   "id": "7716a33a",
   "metadata": {},
   "source": [
    "Let's do it with scaling"
   ]
  },
  {
   "cell_type": "code",
   "execution_count": 123,
   "id": "a2cf231b",
   "metadata": {},
   "outputs": [],
   "source": [
    "from sklearn.preprocessing import StandardScaler"
   ]
  },
  {
   "cell_type": "code",
   "execution_count": 124,
   "id": "72dbb1c8",
   "metadata": {},
   "outputs": [],
   "source": [
    "ss = StandardScaler()"
   ]
  },
  {
   "cell_type": "code",
   "execution_count": 125,
   "id": "6d111c87",
   "metadata": {},
   "outputs": [
    {
     "data": {
      "text/plain": [
       "StandardScaler()"
      ]
     },
     "execution_count": 125,
     "metadata": {},
     "output_type": "execute_result"
    }
   ],
   "source": [
    "ss.fit(Xtrain)"
   ]
  },
  {
   "cell_type": "code",
   "execution_count": 126,
   "id": "6a253366",
   "metadata": {},
   "outputs": [],
   "source": [
    "Xtrain_ss =ss.transform(Xtrain)"
   ]
  },
  {
   "cell_type": "code",
   "execution_count": 127,
   "id": "000d9631",
   "metadata": {},
   "outputs": [],
   "source": [
    "Xtest_ss = ss.transform(Xtest)"
   ]
  },
  {
   "cell_type": "markdown",
   "id": "8a45a0bd",
   "metadata": {},
   "source": [
    "once again applying SVM on scaled data "
   ]
  },
  {
   "cell_type": "code",
   "execution_count": 128,
   "id": "4644b1fe",
   "metadata": {},
   "outputs": [],
   "source": [
    "sv1 = SVC()"
   ]
  },
  {
   "cell_type": "code",
   "execution_count": 129,
   "id": "26805c5b",
   "metadata": {},
   "outputs": [
    {
     "data": {
      "text/plain": [
       "SVC()"
      ]
     },
     "execution_count": 129,
     "metadata": {},
     "output_type": "execute_result"
    }
   ],
   "source": [
    "sv1.fit(Xtrain_ss,ytrain)"
   ]
  },
  {
   "cell_type": "code",
   "execution_count": 130,
   "id": "8a55add8",
   "metadata": {},
   "outputs": [
    {
     "data": {
      "text/plain": [
       "0.9125"
      ]
     },
     "execution_count": 130,
     "metadata": {},
     "output_type": "execute_result"
    }
   ],
   "source": [
    "sv1.score(Xtest_ss,ytest)"
   ]
  },
  {
   "cell_type": "markdown",
   "id": "b32dc5f8",
   "metadata": {},
   "source": [
    "Let's do crossvalidation"
   ]
  },
  {
   "cell_type": "code",
   "execution_count": 131,
   "id": "b9f0c6e5",
   "metadata": {},
   "outputs": [],
   "source": [
    "from sklearn.model_selection import KFold,cross_val_score"
   ]
  },
  {
   "cell_type": "code",
   "execution_count": 132,
   "id": "00ecd761",
   "metadata": {},
   "outputs": [],
   "source": [
    "kf = KFold(n_splits = 10 )"
   ]
  },
  {
   "cell_type": "code",
   "execution_count": 133,
   "id": "eb80de2d",
   "metadata": {},
   "outputs": [],
   "source": [
    "sss = StandardScaler()"
   ]
  },
  {
   "cell_type": "code",
   "execution_count": 134,
   "id": "bd15434e",
   "metadata": {},
   "outputs": [
    {
     "data": {
      "text/plain": [
       "StandardScaler()"
      ]
     },
     "execution_count": 134,
     "metadata": {},
     "output_type": "execute_result"
    }
   ],
   "source": [
    "sss.fit(X)"
   ]
  },
  {
   "cell_type": "code",
   "execution_count": 135,
   "id": "d7c0557c",
   "metadata": {},
   "outputs": [],
   "source": [
    "X_sss = sss.transform(X)"
   ]
  },
  {
   "cell_type": "code",
   "execution_count": 136,
   "id": "b875fb3c",
   "metadata": {},
   "outputs": [
    {
     "data": {
      "text/plain": [
       "array([[-1.78179743, -1.49004624,  1.02020406],\n",
       "       [-0.25358736, -1.46068138,  1.02020406],\n",
       "       [-1.11320552, -0.78528968, -0.98019606],\n",
       "       ...,\n",
       "       [ 1.17910958, -1.46068138, -0.98019606],\n",
       "       [-0.15807423, -1.07893824,  1.02020406],\n",
       "       [ 1.08359645, -0.99084367, -0.98019606]])"
      ]
     },
     "execution_count": 136,
     "metadata": {},
     "output_type": "execute_result"
    }
   ],
   "source": [
    "X_sss"
   ]
  },
  {
   "cell_type": "code",
   "execution_count": 137,
   "id": "629e3710",
   "metadata": {},
   "outputs": [],
   "source": [
    "sv2= SVC()   # here defaut kernal is \"rbf\""
   ]
  },
  {
   "cell_type": "code",
   "execution_count": 114,
   "id": "73b80dfc",
   "metadata": {},
   "outputs": [],
   "source": [
    "score = cross_val_score(sv2, X_sss,y,cv = kf)"
   ]
  },
  {
   "cell_type": "code",
   "execution_count": 115,
   "id": "22bc7d48",
   "metadata": {},
   "outputs": [
    {
     "data": {
      "text/plain": [
       "0.9075"
      ]
     },
     "execution_count": 115,
     "metadata": {},
     "output_type": "execute_result"
    }
   ],
   "source": [
    "score.mean()"
   ]
  },
  {
   "cell_type": "markdown",
   "id": "5b07c409",
   "metadata": {},
   "source": [
    "let's apply SVC again and again for every Kernal"
   ]
  },
  {
   "cell_type": "code",
   "execution_count": 140,
   "id": "55e5c7c0",
   "metadata": {},
   "outputs": [],
   "source": [
    "sv3 =SVC(kernel = \"linear\")"
   ]
  },
  {
   "cell_type": "code",
   "execution_count": 141,
   "id": "6a0cddf1",
   "metadata": {},
   "outputs": [],
   "source": [
    "sv4 =SVC(kernel = \"poly\")"
   ]
  },
  {
   "cell_type": "code",
   "execution_count": 145,
   "id": "1902ca72",
   "metadata": {},
   "outputs": [],
   "source": [
    "sv5 = SVC(kernel = \"sigmoid\")"
   ]
  },
  {
   "cell_type": "code",
   "execution_count": 146,
   "id": "5119c5e6",
   "metadata": {},
   "outputs": [],
   "source": [
    "svclist = [sv3,sv4,sv5]"
   ]
  },
  {
   "cell_type": "code",
   "execution_count": 147,
   "id": "b9210e6d",
   "metadata": {},
   "outputs": [
    {
     "name": "stdout",
     "output_type": "stream",
     "text": [
      "the model is SVC(kernel='linear') and the score is 0.8200000000000001\n",
      "the model is SVC(kernel='poly') and the score is 0.8300000000000001\n",
      "the model is SVC(kernel='sigmoid') and the score is 0.7975\n"
     ]
    }
   ],
   "source": [
    "for model in svclist:\n",
    "    score= cross_val_score(model,X_sss,y,cv=kf)\n",
    "    print(\"the model is {} and the score is {}\".format(model,score.mean()))"
   ]
  },
  {
   "cell_type": "markdown",
   "id": "fa190aa0",
   "metadata": {},
   "source": [
    "Now we know that we are having some other hyper parameters such as \"c\" and \"gamma\" and this c and gamm is also having different -2values . It would be very time consuming process . so to get the best score a techanic is used i.e GridSearchCV  and  RandomSearchCv "
   ]
  },
  {
   "cell_type": "code",
   "execution_count": 148,
   "id": "a7c8e68f",
   "metadata": {},
   "outputs": [],
   "source": [
    "from sklearn.model_selection import GridSearchCV,RandomizedSearchCV"
   ]
  },
  {
   "cell_type": "code",
   "execution_count": 153,
   "id": "ac857c4e",
   "metadata": {},
   "outputs": [],
   "source": [
    "svg = SVC()"
   ]
  },
  {
   "cell_type": "code",
   "execution_count": 159,
   "id": "130cdbd3",
   "metadata": {},
   "outputs": [],
   "source": [
    "params = {\"kernel\" :[\"rbf\",\"sigmoid\",\"linear\",\"poly\"],\n",
    "         \"C\":[1.0,5.0,8.0,100]}"
   ]
  },
  {
   "cell_type": "code",
   "execution_count": 160,
   "id": "f4a32e51",
   "metadata": {},
   "outputs": [],
   "source": [
    "grid = GridSearchCV(svg,param_grid=params, cv = 10)"
   ]
  },
  {
   "cell_type": "code",
   "execution_count": 161,
   "id": "e6e1de1b",
   "metadata": {},
   "outputs": [
    {
     "data": {
      "text/plain": [
       "GridSearchCV(cv=10, estimator=SVC(),\n",
       "             param_grid={'C': [1.0, 5.0, 8.0, 100],\n",
       "                         'kernel': ['rbf', 'sigmoid', 'linear', 'poly']})"
      ]
     },
     "execution_count": 161,
     "metadata": {},
     "output_type": "execute_result"
    }
   ],
   "source": [
    "grid.fit(X_sss,y)"
   ]
  },
  {
   "cell_type": "code",
   "execution_count": 163,
   "id": "0a0af245",
   "metadata": {},
   "outputs": [
    {
     "data": {
      "text/html": [
       "<div>\n",
       "<style scoped>\n",
       "    .dataframe tbody tr th:only-of-type {\n",
       "        vertical-align: middle;\n",
       "    }\n",
       "\n",
       "    .dataframe tbody tr th {\n",
       "        vertical-align: top;\n",
       "    }\n",
       "\n",
       "    .dataframe thead th {\n",
       "        text-align: right;\n",
       "    }\n",
       "</style>\n",
       "<table border=\"1\" class=\"dataframe\">\n",
       "  <thead>\n",
       "    <tr style=\"text-align: right;\">\n",
       "      <th></th>\n",
       "      <th>mean_fit_time</th>\n",
       "      <th>std_fit_time</th>\n",
       "      <th>mean_score_time</th>\n",
       "      <th>std_score_time</th>\n",
       "      <th>param_C</th>\n",
       "      <th>param_kernel</th>\n",
       "      <th>params</th>\n",
       "      <th>split0_test_score</th>\n",
       "      <th>split1_test_score</th>\n",
       "      <th>split2_test_score</th>\n",
       "      <th>split3_test_score</th>\n",
       "      <th>split4_test_score</th>\n",
       "      <th>split5_test_score</th>\n",
       "      <th>split6_test_score</th>\n",
       "      <th>split7_test_score</th>\n",
       "      <th>split8_test_score</th>\n",
       "      <th>split9_test_score</th>\n",
       "      <th>mean_test_score</th>\n",
       "      <th>std_test_score</th>\n",
       "      <th>rank_test_score</th>\n",
       "    </tr>\n",
       "  </thead>\n",
       "  <tbody>\n",
       "    <tr>\n",
       "      <th>0</th>\n",
       "      <td>0.008909</td>\n",
       "      <td>0.005932</td>\n",
       "      <td>0.003077</td>\n",
       "      <td>0.004983</td>\n",
       "      <td>1.0</td>\n",
       "      <td>rbf</td>\n",
       "      <td>{'C': 1.0, 'kernel': 'rbf'}</td>\n",
       "      <td>1.000</td>\n",
       "      <td>0.850</td>\n",
       "      <td>0.900</td>\n",
       "      <td>0.975</td>\n",
       "      <td>1.000</td>\n",
       "      <td>0.850</td>\n",
       "      <td>0.825</td>\n",
       "      <td>0.775</td>\n",
       "      <td>0.900</td>\n",
       "      <td>0.975</td>\n",
       "      <td>0.9050</td>\n",
       "      <td>0.075664</td>\n",
       "      <td>1</td>\n",
       "    </tr>\n",
       "    <tr>\n",
       "      <th>1</th>\n",
       "      <td>0.008470</td>\n",
       "      <td>0.008648</td>\n",
       "      <td>0.004871</td>\n",
       "      <td>0.007335</td>\n",
       "      <td>1.0</td>\n",
       "      <td>sigmoid</td>\n",
       "      <td>{'C': 1.0, 'kernel': 'sigmoid'}</td>\n",
       "      <td>0.850</td>\n",
       "      <td>0.750</td>\n",
       "      <td>0.875</td>\n",
       "      <td>0.875</td>\n",
       "      <td>0.875</td>\n",
       "      <td>0.800</td>\n",
       "      <td>0.850</td>\n",
       "      <td>0.675</td>\n",
       "      <td>0.675</td>\n",
       "      <td>0.650</td>\n",
       "      <td>0.7875</td>\n",
       "      <td>0.087500</td>\n",
       "      <td>13</td>\n",
       "    </tr>\n",
       "    <tr>\n",
       "      <th>2</th>\n",
       "      <td>0.007852</td>\n",
       "      <td>0.007852</td>\n",
       "      <td>0.001563</td>\n",
       "      <td>0.004690</td>\n",
       "      <td>1.0</td>\n",
       "      <td>linear</td>\n",
       "      <td>{'C': 1.0, 'kernel': 'linear'}</td>\n",
       "      <td>0.675</td>\n",
       "      <td>0.675</td>\n",
       "      <td>0.975</td>\n",
       "      <td>0.950</td>\n",
       "      <td>1.000</td>\n",
       "      <td>0.850</td>\n",
       "      <td>0.800</td>\n",
       "      <td>0.775</td>\n",
       "      <td>0.825</td>\n",
       "      <td>0.675</td>\n",
       "      <td>0.8200</td>\n",
       "      <td>0.118216</td>\n",
       "      <td>9</td>\n",
       "    </tr>\n",
       "    <tr>\n",
       "      <th>3</th>\n",
       "      <td>0.010984</td>\n",
       "      <td>0.007123</td>\n",
       "      <td>0.000000</td>\n",
       "      <td>0.000000</td>\n",
       "      <td>1.0</td>\n",
       "      <td>poly</td>\n",
       "      <td>{'C': 1.0, 'kernel': 'poly'}</td>\n",
       "      <td>0.700</td>\n",
       "      <td>0.700</td>\n",
       "      <td>0.950</td>\n",
       "      <td>0.950</td>\n",
       "      <td>1.000</td>\n",
       "      <td>0.875</td>\n",
       "      <td>0.825</td>\n",
       "      <td>0.800</td>\n",
       "      <td>0.825</td>\n",
       "      <td>0.825</td>\n",
       "      <td>0.8450</td>\n",
       "      <td>0.096047</td>\n",
       "      <td>8</td>\n",
       "    </tr>\n",
       "    <tr>\n",
       "      <th>4</th>\n",
       "      <td>0.006582</td>\n",
       "      <td>0.007494</td>\n",
       "      <td>0.003211</td>\n",
       "      <td>0.006424</td>\n",
       "      <td>5.0</td>\n",
       "      <td>rbf</td>\n",
       "      <td>{'C': 5.0, 'kernel': 'rbf'}</td>\n",
       "      <td>1.000</td>\n",
       "      <td>0.825</td>\n",
       "      <td>0.900</td>\n",
       "      <td>0.975</td>\n",
       "      <td>1.000</td>\n",
       "      <td>0.850</td>\n",
       "      <td>0.825</td>\n",
       "      <td>0.800</td>\n",
       "      <td>0.900</td>\n",
       "      <td>0.950</td>\n",
       "      <td>0.9025</td>\n",
       "      <td>0.071981</td>\n",
       "      <td>2</td>\n",
       "    </tr>\n",
       "    <tr>\n",
       "      <th>5</th>\n",
       "      <td>0.012619</td>\n",
       "      <td>0.006312</td>\n",
       "      <td>0.001562</td>\n",
       "      <td>0.004687</td>\n",
       "      <td>5.0</td>\n",
       "      <td>sigmoid</td>\n",
       "      <td>{'C': 5.0, 'kernel': 'sigmoid'}</td>\n",
       "      <td>0.850</td>\n",
       "      <td>0.750</td>\n",
       "      <td>0.825</td>\n",
       "      <td>0.725</td>\n",
       "      <td>0.900</td>\n",
       "      <td>0.825</td>\n",
       "      <td>0.875</td>\n",
       "      <td>0.675</td>\n",
       "      <td>0.550</td>\n",
       "      <td>0.525</td>\n",
       "      <td>0.7500</td>\n",
       "      <td>0.125000</td>\n",
       "      <td>14</td>\n",
       "    </tr>\n",
       "    <tr>\n",
       "      <th>6</th>\n",
       "      <td>0.015774</td>\n",
       "      <td>0.000280</td>\n",
       "      <td>0.000000</td>\n",
       "      <td>0.000000</td>\n",
       "      <td>5.0</td>\n",
       "      <td>linear</td>\n",
       "      <td>{'C': 5.0, 'kernel': 'linear'}</td>\n",
       "      <td>0.675</td>\n",
       "      <td>0.675</td>\n",
       "      <td>0.975</td>\n",
       "      <td>0.950</td>\n",
       "      <td>1.000</td>\n",
       "      <td>0.850</td>\n",
       "      <td>0.800</td>\n",
       "      <td>0.775</td>\n",
       "      <td>0.825</td>\n",
       "      <td>0.675</td>\n",
       "      <td>0.8200</td>\n",
       "      <td>0.118216</td>\n",
       "      <td>9</td>\n",
       "    </tr>\n",
       "    <tr>\n",
       "      <th>7</th>\n",
       "      <td>0.007362</td>\n",
       "      <td>0.007739</td>\n",
       "      <td>0.003124</td>\n",
       "      <td>0.006249</td>\n",
       "      <td>5.0</td>\n",
       "      <td>poly</td>\n",
       "      <td>{'C': 5.0, 'kernel': 'poly'}</td>\n",
       "      <td>0.725</td>\n",
       "      <td>0.675</td>\n",
       "      <td>0.950</td>\n",
       "      <td>0.975</td>\n",
       "      <td>1.000</td>\n",
       "      <td>0.850</td>\n",
       "      <td>0.825</td>\n",
       "      <td>0.800</td>\n",
       "      <td>0.850</td>\n",
       "      <td>0.850</td>\n",
       "      <td>0.8500</td>\n",
       "      <td>0.098742</td>\n",
       "      <td>5</td>\n",
       "    </tr>\n",
       "    <tr>\n",
       "      <th>8</th>\n",
       "      <td>0.008189</td>\n",
       "      <td>0.008090</td>\n",
       "      <td>0.001648</td>\n",
       "      <td>0.004731</td>\n",
       "      <td>8.0</td>\n",
       "      <td>rbf</td>\n",
       "      <td>{'C': 8.0, 'kernel': 'rbf'}</td>\n",
       "      <td>1.000</td>\n",
       "      <td>0.800</td>\n",
       "      <td>0.900</td>\n",
       "      <td>0.975</td>\n",
       "      <td>1.000</td>\n",
       "      <td>0.850</td>\n",
       "      <td>0.825</td>\n",
       "      <td>0.800</td>\n",
       "      <td>0.900</td>\n",
       "      <td>0.950</td>\n",
       "      <td>0.9000</td>\n",
       "      <td>0.075000</td>\n",
       "      <td>3</td>\n",
       "    </tr>\n",
       "    <tr>\n",
       "      <th>9</th>\n",
       "      <td>0.010284</td>\n",
       "      <td>0.006339</td>\n",
       "      <td>0.002361</td>\n",
       "      <td>0.005021</td>\n",
       "      <td>8.0</td>\n",
       "      <td>sigmoid</td>\n",
       "      <td>{'C': 8.0, 'kernel': 'sigmoid'}</td>\n",
       "      <td>0.850</td>\n",
       "      <td>0.750</td>\n",
       "      <td>0.825</td>\n",
       "      <td>0.725</td>\n",
       "      <td>0.900</td>\n",
       "      <td>0.825</td>\n",
       "      <td>0.875</td>\n",
       "      <td>0.675</td>\n",
       "      <td>0.550</td>\n",
       "      <td>0.525</td>\n",
       "      <td>0.7500</td>\n",
       "      <td>0.125000</td>\n",
       "      <td>14</td>\n",
       "    </tr>\n",
       "    <tr>\n",
       "      <th>10</th>\n",
       "      <td>0.015676</td>\n",
       "      <td>0.000089</td>\n",
       "      <td>0.000000</td>\n",
       "      <td>0.000000</td>\n",
       "      <td>8.0</td>\n",
       "      <td>linear</td>\n",
       "      <td>{'C': 8.0, 'kernel': 'linear'}</td>\n",
       "      <td>0.675</td>\n",
       "      <td>0.675</td>\n",
       "      <td>0.975</td>\n",
       "      <td>0.950</td>\n",
       "      <td>1.000</td>\n",
       "      <td>0.850</td>\n",
       "      <td>0.800</td>\n",
       "      <td>0.775</td>\n",
       "      <td>0.825</td>\n",
       "      <td>0.675</td>\n",
       "      <td>0.8200</td>\n",
       "      <td>0.118216</td>\n",
       "      <td>9</td>\n",
       "    </tr>\n",
       "    <tr>\n",
       "      <th>11</th>\n",
       "      <td>0.014381</td>\n",
       "      <td>0.004665</td>\n",
       "      <td>0.001563</td>\n",
       "      <td>0.004690</td>\n",
       "      <td>8.0</td>\n",
       "      <td>poly</td>\n",
       "      <td>{'C': 8.0, 'kernel': 'poly'}</td>\n",
       "      <td>0.725</td>\n",
       "      <td>0.675</td>\n",
       "      <td>0.950</td>\n",
       "      <td>0.975</td>\n",
       "      <td>1.000</td>\n",
       "      <td>0.850</td>\n",
       "      <td>0.825</td>\n",
       "      <td>0.800</td>\n",
       "      <td>0.850</td>\n",
       "      <td>0.850</td>\n",
       "      <td>0.8500</td>\n",
       "      <td>0.098742</td>\n",
       "      <td>5</td>\n",
       "    </tr>\n",
       "    <tr>\n",
       "      <th>12</th>\n",
       "      <td>0.015789</td>\n",
       "      <td>0.000372</td>\n",
       "      <td>0.001571</td>\n",
       "      <td>0.004712</td>\n",
       "      <td>100</td>\n",
       "      <td>rbf</td>\n",
       "      <td>{'C': 100, 'kernel': 'rbf'}</td>\n",
       "      <td>0.950</td>\n",
       "      <td>0.750</td>\n",
       "      <td>0.900</td>\n",
       "      <td>0.925</td>\n",
       "      <td>1.000</td>\n",
       "      <td>0.825</td>\n",
       "      <td>0.825</td>\n",
       "      <td>0.825</td>\n",
       "      <td>0.900</td>\n",
       "      <td>0.950</td>\n",
       "      <td>0.8850</td>\n",
       "      <td>0.072629</td>\n",
       "      <td>4</td>\n",
       "    </tr>\n",
       "    <tr>\n",
       "      <th>13</th>\n",
       "      <td>0.012451</td>\n",
       "      <td>0.008439</td>\n",
       "      <td>0.001819</td>\n",
       "      <td>0.004725</td>\n",
       "      <td>100</td>\n",
       "      <td>sigmoid</td>\n",
       "      <td>{'C': 100, 'kernel': 'sigmoid'}</td>\n",
       "      <td>0.775</td>\n",
       "      <td>0.750</td>\n",
       "      <td>0.900</td>\n",
       "      <td>0.725</td>\n",
       "      <td>0.900</td>\n",
       "      <td>0.825</td>\n",
       "      <td>0.775</td>\n",
       "      <td>0.650</td>\n",
       "      <td>0.625</td>\n",
       "      <td>0.525</td>\n",
       "      <td>0.7450</td>\n",
       "      <td>0.113358</td>\n",
       "      <td>16</td>\n",
       "    </tr>\n",
       "    <tr>\n",
       "      <th>14</th>\n",
       "      <td>0.044767</td>\n",
       "      <td>0.013851</td>\n",
       "      <td>0.004687</td>\n",
       "      <td>0.007160</td>\n",
       "      <td>100</td>\n",
       "      <td>linear</td>\n",
       "      <td>{'C': 100, 'kernel': 'linear'}</td>\n",
       "      <td>0.675</td>\n",
       "      <td>0.675</td>\n",
       "      <td>0.975</td>\n",
       "      <td>0.950</td>\n",
       "      <td>1.000</td>\n",
       "      <td>0.850</td>\n",
       "      <td>0.800</td>\n",
       "      <td>0.775</td>\n",
       "      <td>0.825</td>\n",
       "      <td>0.675</td>\n",
       "      <td>0.8200</td>\n",
       "      <td>0.118216</td>\n",
       "      <td>9</td>\n",
       "    </tr>\n",
       "    <tr>\n",
       "      <th>15</th>\n",
       "      <td>0.060152</td>\n",
       "      <td>0.018097</td>\n",
       "      <td>0.001031</td>\n",
       "      <td>0.002424</td>\n",
       "      <td>100</td>\n",
       "      <td>poly</td>\n",
       "      <td>{'C': 100, 'kernel': 'poly'}</td>\n",
       "      <td>0.725</td>\n",
       "      <td>0.675</td>\n",
       "      <td>0.950</td>\n",
       "      <td>0.975</td>\n",
       "      <td>1.000</td>\n",
       "      <td>0.850</td>\n",
       "      <td>0.825</td>\n",
       "      <td>0.800</td>\n",
       "      <td>0.850</td>\n",
       "      <td>0.850</td>\n",
       "      <td>0.8500</td>\n",
       "      <td>0.098742</td>\n",
       "      <td>5</td>\n",
       "    </tr>\n",
       "  </tbody>\n",
       "</table>\n",
       "</div>"
      ],
      "text/plain": [
       "    mean_fit_time  std_fit_time  mean_score_time  std_score_time param_C  \\\n",
       "0        0.008909      0.005932         0.003077        0.004983     1.0   \n",
       "1        0.008470      0.008648         0.004871        0.007335     1.0   \n",
       "2        0.007852      0.007852         0.001563        0.004690     1.0   \n",
       "3        0.010984      0.007123         0.000000        0.000000     1.0   \n",
       "4        0.006582      0.007494         0.003211        0.006424     5.0   \n",
       "5        0.012619      0.006312         0.001562        0.004687     5.0   \n",
       "6        0.015774      0.000280         0.000000        0.000000     5.0   \n",
       "7        0.007362      0.007739         0.003124        0.006249     5.0   \n",
       "8        0.008189      0.008090         0.001648        0.004731     8.0   \n",
       "9        0.010284      0.006339         0.002361        0.005021     8.0   \n",
       "10       0.015676      0.000089         0.000000        0.000000     8.0   \n",
       "11       0.014381      0.004665         0.001563        0.004690     8.0   \n",
       "12       0.015789      0.000372         0.001571        0.004712     100   \n",
       "13       0.012451      0.008439         0.001819        0.004725     100   \n",
       "14       0.044767      0.013851         0.004687        0.007160     100   \n",
       "15       0.060152      0.018097         0.001031        0.002424     100   \n",
       "\n",
       "   param_kernel                           params  split0_test_score  \\\n",
       "0           rbf      {'C': 1.0, 'kernel': 'rbf'}              1.000   \n",
       "1       sigmoid  {'C': 1.0, 'kernel': 'sigmoid'}              0.850   \n",
       "2        linear   {'C': 1.0, 'kernel': 'linear'}              0.675   \n",
       "3          poly     {'C': 1.0, 'kernel': 'poly'}              0.700   \n",
       "4           rbf      {'C': 5.0, 'kernel': 'rbf'}              1.000   \n",
       "5       sigmoid  {'C': 5.0, 'kernel': 'sigmoid'}              0.850   \n",
       "6        linear   {'C': 5.0, 'kernel': 'linear'}              0.675   \n",
       "7          poly     {'C': 5.0, 'kernel': 'poly'}              0.725   \n",
       "8           rbf      {'C': 8.0, 'kernel': 'rbf'}              1.000   \n",
       "9       sigmoid  {'C': 8.0, 'kernel': 'sigmoid'}              0.850   \n",
       "10       linear   {'C': 8.0, 'kernel': 'linear'}              0.675   \n",
       "11         poly     {'C': 8.0, 'kernel': 'poly'}              0.725   \n",
       "12          rbf      {'C': 100, 'kernel': 'rbf'}              0.950   \n",
       "13      sigmoid  {'C': 100, 'kernel': 'sigmoid'}              0.775   \n",
       "14       linear   {'C': 100, 'kernel': 'linear'}              0.675   \n",
       "15         poly     {'C': 100, 'kernel': 'poly'}              0.725   \n",
       "\n",
       "    split1_test_score  split2_test_score  split3_test_score  \\\n",
       "0               0.850              0.900              0.975   \n",
       "1               0.750              0.875              0.875   \n",
       "2               0.675              0.975              0.950   \n",
       "3               0.700              0.950              0.950   \n",
       "4               0.825              0.900              0.975   \n",
       "5               0.750              0.825              0.725   \n",
       "6               0.675              0.975              0.950   \n",
       "7               0.675              0.950              0.975   \n",
       "8               0.800              0.900              0.975   \n",
       "9               0.750              0.825              0.725   \n",
       "10              0.675              0.975              0.950   \n",
       "11              0.675              0.950              0.975   \n",
       "12              0.750              0.900              0.925   \n",
       "13              0.750              0.900              0.725   \n",
       "14              0.675              0.975              0.950   \n",
       "15              0.675              0.950              0.975   \n",
       "\n",
       "    split4_test_score  split5_test_score  split6_test_score  \\\n",
       "0               1.000              0.850              0.825   \n",
       "1               0.875              0.800              0.850   \n",
       "2               1.000              0.850              0.800   \n",
       "3               1.000              0.875              0.825   \n",
       "4               1.000              0.850              0.825   \n",
       "5               0.900              0.825              0.875   \n",
       "6               1.000              0.850              0.800   \n",
       "7               1.000              0.850              0.825   \n",
       "8               1.000              0.850              0.825   \n",
       "9               0.900              0.825              0.875   \n",
       "10              1.000              0.850              0.800   \n",
       "11              1.000              0.850              0.825   \n",
       "12              1.000              0.825              0.825   \n",
       "13              0.900              0.825              0.775   \n",
       "14              1.000              0.850              0.800   \n",
       "15              1.000              0.850              0.825   \n",
       "\n",
       "    split7_test_score  split8_test_score  split9_test_score  mean_test_score  \\\n",
       "0               0.775              0.900              0.975           0.9050   \n",
       "1               0.675              0.675              0.650           0.7875   \n",
       "2               0.775              0.825              0.675           0.8200   \n",
       "3               0.800              0.825              0.825           0.8450   \n",
       "4               0.800              0.900              0.950           0.9025   \n",
       "5               0.675              0.550              0.525           0.7500   \n",
       "6               0.775              0.825              0.675           0.8200   \n",
       "7               0.800              0.850              0.850           0.8500   \n",
       "8               0.800              0.900              0.950           0.9000   \n",
       "9               0.675              0.550              0.525           0.7500   \n",
       "10              0.775              0.825              0.675           0.8200   \n",
       "11              0.800              0.850              0.850           0.8500   \n",
       "12              0.825              0.900              0.950           0.8850   \n",
       "13              0.650              0.625              0.525           0.7450   \n",
       "14              0.775              0.825              0.675           0.8200   \n",
       "15              0.800              0.850              0.850           0.8500   \n",
       "\n",
       "    std_test_score  rank_test_score  \n",
       "0         0.075664                1  \n",
       "1         0.087500               13  \n",
       "2         0.118216                9  \n",
       "3         0.096047                8  \n",
       "4         0.071981                2  \n",
       "5         0.125000               14  \n",
       "6         0.118216                9  \n",
       "7         0.098742                5  \n",
       "8         0.075000                3  \n",
       "9         0.125000               14  \n",
       "10        0.118216                9  \n",
       "11        0.098742                5  \n",
       "12        0.072629                4  \n",
       "13        0.113358               16  \n",
       "14        0.118216                9  \n",
       "15        0.098742                5  "
      ]
     },
     "execution_count": 163,
     "metadata": {},
     "output_type": "execute_result"
    }
   ],
   "source": [
    "pd.DataFrame(grid.cv_results_)"
   ]
  },
  {
   "cell_type": "code",
   "execution_count": 164,
   "id": "570d89e1",
   "metadata": {},
   "outputs": [
    {
     "data": {
      "text/plain": [
       "{'C': 1.0, 'kernel': 'rbf'}"
      ]
     },
     "execution_count": 164,
     "metadata": {},
     "output_type": "execute_result"
    }
   ],
   "source": [
    "grid.best_params_"
   ]
  },
  {
   "cell_type": "code",
   "execution_count": 165,
   "id": "1c918d55",
   "metadata": {},
   "outputs": [
    {
     "data": {
      "text/plain": [
       "0.905"
      ]
     },
     "execution_count": 165,
     "metadata": {},
     "output_type": "execute_result"
    }
   ],
   "source": [
    "grid.best_score_"
   ]
  },
  {
   "cell_type": "code",
   "execution_count": null,
   "id": "23d0a678",
   "metadata": {},
   "outputs": [],
   "source": []
  }
 ],
 "metadata": {
  "kernelspec": {
   "display_name": "Python 3 (ipykernel)",
   "language": "python",
   "name": "python3"
  },
  "language_info": {
   "codemirror_mode": {
    "name": "ipython",
    "version": 3
   },
   "file_extension": ".py",
   "mimetype": "text/x-python",
   "name": "python",
   "nbconvert_exporter": "python",
   "pygments_lexer": "ipython3",
   "version": "3.9.7"
  }
 },
 "nbformat": 4,
 "nbformat_minor": 5
}
